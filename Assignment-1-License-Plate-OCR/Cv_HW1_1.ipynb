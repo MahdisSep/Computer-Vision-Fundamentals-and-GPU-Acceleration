{
  "nbformat": 4,
  "nbformat_minor": 0,
  "metadata": {
    "colab": {
      "provenance": []
    },
    "kernelspec": {
      "name": "python3",
      "display_name": "Python 3"
    },
    "language_info": {
      "name": "python"
    }
  },
  "cells": [
    {
      "cell_type": "code",
      "execution_count": null,
      "metadata": {
        "id": "xpouygjnx7v5",
        "colab": {
          "base_uri": "https://localhost:8080/"
        },
        "outputId": "c3017546-264d-447f-b156-bfa3a16adb30"
      },
      "outputs": [
        {
          "output_type": "stream",
          "name": "stdout",
          "text": [
            "Requirement already satisfied: pytesseract in /usr/local/lib/python3.10/dist-packages (0.3.13)\n",
            "Requirement already satisfied: packaging>=21.3 in /usr/local/lib/python3.10/dist-packages (from pytesseract) (24.1)\n",
            "Requirement already satisfied: Pillow>=8.0.0 in /usr/local/lib/python3.10/dist-packages (from pytesseract) (10.4.0)\n",
            "Reading package lists... Done\n",
            "Building dependency tree... Done\n",
            "Reading state information... Done\n",
            "The following additional packages will be installed:\n",
            "  tesseract-ocr-eng tesseract-ocr-osd\n",
            "The following NEW packages will be installed:\n",
            "  tesseract-ocr tesseract-ocr-eng tesseract-ocr-osd\n",
            "0 upgraded, 3 newly installed, 0 to remove and 49 not upgraded.\n",
            "Need to get 4,816 kB of archives.\n",
            "After this operation, 15.6 MB of additional disk space will be used.\n",
            "Get:1 http://archive.ubuntu.com/ubuntu jammy/universe amd64 tesseract-ocr-eng all 1:4.00~git30-7274cfa-1.1 [1,591 kB]\n",
            "Get:2 http://archive.ubuntu.com/ubuntu jammy/universe amd64 tesseract-ocr-osd all 1:4.00~git30-7274cfa-1.1 [2,990 kB]\n",
            "Get:3 http://archive.ubuntu.com/ubuntu jammy/universe amd64 tesseract-ocr amd64 4.1.1-2.1build1 [236 kB]\n",
            "Fetched 4,816 kB in 0s (24.1 MB/s)\n",
            "Selecting previously unselected package tesseract-ocr-eng.\n",
            "(Reading database ... 123623 files and directories currently installed.)\n",
            "Preparing to unpack .../tesseract-ocr-eng_1%3a4.00~git30-7274cfa-1.1_all.deb ...\n",
            "Unpacking tesseract-ocr-eng (1:4.00~git30-7274cfa-1.1) ...\n",
            "Selecting previously unselected package tesseract-ocr-osd.\n",
            "Preparing to unpack .../tesseract-ocr-osd_1%3a4.00~git30-7274cfa-1.1_all.deb ...\n",
            "Unpacking tesseract-ocr-osd (1:4.00~git30-7274cfa-1.1) ...\n",
            "Selecting previously unselected package tesseract-ocr.\n",
            "Preparing to unpack .../tesseract-ocr_4.1.1-2.1build1_amd64.deb ...\n",
            "Unpacking tesseract-ocr (4.1.1-2.1build1) ...\n",
            "Setting up tesseract-ocr-eng (1:4.00~git30-7274cfa-1.1) ...\n",
            "Setting up tesseract-ocr-osd (1:4.00~git30-7274cfa-1.1) ...\n",
            "Setting up tesseract-ocr (4.1.1-2.1build1) ...\n",
            "Processing triggers for man-db (2.10.2-1) ...\n"
          ]
        }
      ],
      "source": [
        "!pip install pytesseract\n",
        "!apt-get install -y tesseract-ocr"
      ]
    },
    {
      "cell_type": "code",
      "source": [
        "# pytesseract: This is a Python wrapper for Tesseract, an OCR (Optical Character Recognition) engine that reads text from images.\n",
        "# cv2_imshow: A function to display images in Google Colab.\n",
        "\n",
        "import cv2\n",
        "import pytesseract\n",
        "from google.colab.patches import cv2_imshow\n",
        "\n",
        "# Load the image\n",
        "image = cv2.imread('car.jpg')\n",
        "\n",
        "# Step 1: Denoise the image\n",
        "denoised_image = cv2.fastNlMeansDenoisingColored(image, None, 10, 10, 7, 21)\n",
        "\n",
        "# Step 2: Convert to Grayscale\n",
        "gray = cv2.cvtColor(denoised_image, cv2.COLOR_BGR2GRAY)\n",
        "\n",
        "# Image dimensions\n",
        "height, width = image.shape[:2]\n",
        "top_left_x, top_left_y = 97, 127\n",
        "bottom_right_x, bottom_right_y = 177, 146\n",
        "\n",
        "# Step 3: Crop the license plate area if within bounds\n",
        "if 0 <= top_left_x < width and 0 <= bottom_right_x <= width and 0 <= top_left_y < height and 0 <= bottom_right_y < height:\n",
        "    # Crop the image to the license plate region\n",
        "    cropped_license_plate = gray[top_left_y:bottom_right_y, top_left_x:bottom_right_x]\n",
        "\n",
        "    # Step 4: Resize the cropped image for better detection\n",
        "    resized_plate = cv2.resize(cropped_license_plate, None, fx=2, fy=2, interpolation=cv2.INTER_LINEAR)\n",
        "\n",
        "    # Step 5: Apply Morphological Transformations\n",
        "    kernel = cv2.getStructuringElement(cv2.MORPH_RECT, (3, 3))\n",
        "    morph_plate = cv2.morphologyEx(resized_plate, cv2.MORPH_CLOSE, kernel)\n",
        "\n",
        "    # Step 6: Apply Thresholding for better OCR accuracy\n",
        "    _, thresholded_plate = cv2.threshold(morph_plate, 0, 255, cv2.THRESH_BINARY + cv2.THRESH_OTSU)\n",
        "\n",
        "    # Display the processed license plate region\n",
        "    cv2_imshow(thresholded_plate)\n",
        "\n",
        "    # Step 7: Use pytesseract to read the text from the thresholded license plate\n",
        "    # Use config to improve detection (allowing uppercase letters, numbers)\n",
        "    custom_config = r'--oem 3 --psm 8 outputbase=digits'\n",
        "    text = pytesseract.image_to_string(thresholded_plate, config=custom_config)\n",
        "\n",
        "    # Print the detected text\n",
        "    print(\"Detected License Plate Number:\", text.strip())\n",
        "else:\n",
        "    print(\"Specified coordinates are out of image bounds.\")\n"
      ],
      "metadata": {
        "colab": {
          "base_uri": "https://localhost:8080/",
          "height": 72
        },
        "id": "jkgmpqv060JS",
        "outputId": "246b592a-e624-48dd-d53a-a50a74107c0c"
      },
      "execution_count": null,
      "outputs": [
        {
          "output_type": "display_data",
          "data": {
            "text/plain": [
              "<PIL.Image.Image image mode=L size=160x38>"
            ],
            "image/png": "[encoded data removed]",
            "image/jpeg": "[encoded data removed]"
          },
          "metadata": {}
        },
        {
          "output_type": "stream",
          "name": "stdout",
          "text": [
            "Detected License Plate Number: MH 20EE 7602\n"
          ]
        }
      ]
    },
    {
      "cell_type": "markdown",
      "source": [
        "fastNlMeansDenoisingColored: This method reduces noise in the image while preserving color. Noise can make it difficult for OCR to recognize text. The parameters (10, 10, 7, 21) control how aggressively noise is reduced. Smaller values keep more detail but might leave some noise.\n",
        "Converts the denoised color image to grayscale. OCR works better on single-channel (black and white) images, as it simplifies the data.\n",
        "Crops the area of the image where the license plate is expected to be. The coordinates (top_left_x, top_left_y, etc.) define the rectangle around the plate.\n",
        "Increases the size of the cropped image (doubles its dimensions). Resizing can make the text clearer and easier for OCR to recognize.\n",
        "getStructuringElement: Creates a small rectangular kernel (or filter) of size 3x3.\n",
        "morphologyEx: This applies a morphological operation. Here, MORPH_CLOSE is used, which fills small holes in the text. This is helpful for connecting letters that might be slightly separated or making the text more solid for better recognition.\n",
        "threshold: Converts the grayscale image to a binary image (black and white). This helps to create a clear distinction between the text (white) and the background (black).\n",
        "THRESH_BINARY + THRESH_OTSU: This method automatically finds the optimal threshold value to separate foreground from background, adapting to lighting conditions in the image.\n",
        "Uses Tesseract to read text from the processed binary image. The config parameter is set to optimize detection for digits and uppercase letters commonly found on license plates.\n"
      ],
      "metadata": {
        "id": "erIqo-Cy9s2h"
      }
    },
    {
      "cell_type": "markdown",
      "source": [
        "Denoising helps reduce unwanted noise in the image, making it clearer.\n",
        "Grayscale conversion simplifies the image for text recognition.\n",
        "Cropping isolates the license plate area for focused processing.\n",
        "Resizing enlarges the text, aiding OCR.\n",
        "Morphological operations connect and strengthen text features.\n",
        "Thresholding creates a clear black-and-white image, enhancing text visibility.\n",
        "OCR reads the processed image to extract the text."
      ],
      "metadata": {
        "id": "XwRqkiLc9mX4"
      }
    }
  ]
}